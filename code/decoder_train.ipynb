{
  "nbformat": 4,
  "nbformat_minor": 0,
  "metadata": {
    "orig_nbformat": 2,
    "kernelspec": {
      "name": "python3",
      "display_name": "Python 3"
    },
    "colab": {
      "name": "decoder-train.ipynb",
      "provenance": [],
      "collapsed_sections": [
        "W_jgZ-QkqSkN",
        "bQXh3Am5-236",
        "mXcjlXAQ_Os3",
        "DKjYyXyuFR14",
        "VW4v-FIvVdEu",
        "gavMKXhAqc0k",
        "sPfQFoxw_gCE",
        "cVNK3uX-VpjG",
        "Y_DULCaNly9e",
        "l0sZ9GARmFTL"
      ],
      "machine_shape": "hm"
    },
    "accelerator": "GPU"
  },
  "cells": [
    {
      "cell_type": "markdown",
      "metadata": {
        "id": "wYdDE3WmU5qM"
      },
      "source": [
        "# DECODER TRAINING FOR CNN-LSTM BASED IMAGE CAPTIONING\n"
      ]
    },
    {
      "cell_type": "code",
      "metadata": {
        "colab": {
          "base_uri": "https://localhost:8080/"
        },
        "id": "L_kpxmp7U1Dh",
        "outputId": "98cefdfb-6816-4ed0-bb34-28138cefe6f5"
      },
      "source": [
        "'''\n",
        "Mount Drive\n",
        "To search for decoder.py in mounted drive, set path\n",
        "'''\n",
        "import sys\n",
        "from google.colab import drive\n",
        "drive.mount('/content/drive')\n",
        "sys.path.append('####') # Add path"
      ],
      "execution_count": null,
      "outputs": [
        {
          "output_type": "stream",
          "text": [
            "Mounted at /content/drive\n"
          ],
          "name": "stdout"
        }
      ]
    },
    {
      "cell_type": "code",
      "metadata": {
        "id": "Lp4vW3R2Uwzo"
      },
      "source": [
        "import tensorflow as tf\n",
        "import matplotlib.pyplot as plt\n",
        "from decoder import *\n",
        "\n",
        "import time"
      ],
      "execution_count": null,
      "outputs": []
    },
    {
      "cell_type": "code",
      "metadata": {
        "id": "CsjJUgs_VOLp"
      },
      "source": [
        "'''\n",
        "Define folderpath for further operations\n",
        "'''\n",
        "FOLDERPATH = '####' # Add path"
      ],
      "execution_count": null,
      "outputs": []
    },
    {
      "cell_type": "markdown",
      "metadata": {
        "id": "HDwTW45VjVVg"
      },
      "source": [
        "# TRAINING"
      ]
    },
    {
      "cell_type": "code",
      "metadata": {
        "id": "xgyXttRtUwzo",
        "colab": {
          "base_uri": "https://localhost:8080/"
        },
        "outputId": "b659068b-00ce-4873-9fcd-e150b9201e10"
      },
      "source": [
        "'''\n",
        "DECODER TRAINING\n",
        "----------------\n",
        "featuresname: which cnn encoder feature list\n",
        "'''\n",
        "\n",
        "featuresname = 'features_ResNetP50Q'\n",
        "\n",
        "filename = FOLDERPATH+'dataset/Flickr8k_text/Flickr_8k.trainImages.txt'\n",
        "train = load_set(filename)\n",
        "train_descriptions = load_clean_descriptions(FOLDERPATH+'dataset/descriptions.txt', train)\n",
        "train_features = load_photo_features(FOLDERPATH+'dataset/{:}.pkl'.format(featuresname), train)\n",
        "tokenizer = create_tokenizer(train_descriptions)\n",
        "vocab_size = len(tokenizer.word_index) + 1\n",
        "maxlength = max_length(train_descriptions)\n",
        "\n",
        "# define the model\n",
        "inputshape = list(train_features.values())[0].shape[1]\n",
        "model = define_model(vocab_size, maxlength, inputshape)\n",
        "print(model.summary())\n",
        "epochs = 10\n",
        "steps = len(train_descriptions)\n",
        "\n",
        "# Resume training\n",
        "# model = load_model(FOLDERPATH+'models-v2/baselines/pruned50-VGG16-baseline-LSTM_ep_10.h5')\n",
        "\n",
        "# train loop\n",
        "modelname = 'pruned50quant-ResNet-baseline-LSTM'\n",
        "for i in range(1,epochs+1):\n",
        "\tgenerator = data_generator(train_descriptions, train_features, tokenizer, maxlength, vocab_size)\n",
        "\thistory = model.fit_generator(generator, epochs=1, steps_per_epoch=steps, verbose=1)\n",
        "\tif i%5 == 0:\n",
        "\t\tmodel.save(FOLDERPATH+'models-v2/baselines/'+modelname+'_ep_' + str(i) + '.h5')\n",
        "\n",
        "# '''\n",
        "# SAVE HISTORY\n",
        "# '''\n",
        "# from pickle import dump\n",
        "# dump(history,open('../models-history/'+modelname+'.pkl','wb'))"
      ],
      "execution_count": null,
      "outputs": [
        {
          "output_type": "stream",
          "text": [
            "Model: \"functional_3\"\n",
            "__________________________________________________________________________________________________\n",
            "Layer (type)                    Output Shape         Param #     Connected to                     \n",
            "==================================================================================================\n",
            "input_4 (InputLayer)            [(None, 34)]         0                                            \n",
            "__________________________________________________________________________________________________\n",
            "input_3 (InputLayer)            [(None, 100)]        0                                            \n",
            "__________________________________________________________________________________________________\n",
            "embedding_1 (Embedding)         (None, 34, 256)      1940224     input_4[0][0]                    \n",
            "__________________________________________________________________________________________________\n",
            "dropout_2 (Dropout)             (None, 100)          0           input_3[0][0]                    \n",
            "__________________________________________________________________________________________________\n",
            "dropout_3 (Dropout)             (None, 34, 256)      0           embedding_1[0][0]                \n",
            "__________________________________________________________________________________________________\n",
            "dense_3 (Dense)                 (None, 256)          25856       dropout_2[0][0]                  \n",
            "__________________________________________________________________________________________________\n",
            "lstm_1 (LSTM)                   (None, 256)          525312      dropout_3[0][0]                  \n",
            "__________________________________________________________________________________________________\n",
            "add_1 (Add)                     (None, 256)          0           dense_3[0][0]                    \n",
            "                                                                 lstm_1[0][0]                     \n",
            "__________________________________________________________________________________________________\n",
            "dense_4 (Dense)                 (None, 256)          65792       add_1[0][0]                      \n",
            "__________________________________________________________________________________________________\n",
            "dense_5 (Dense)                 (None, 7579)         1947803     dense_4[0][0]                    \n",
            "==================================================================================================\n",
            "Total params: 4,504,987\n",
            "Trainable params: 4,504,987\n",
            "Non-trainable params: 0\n",
            "__________________________________________________________________________________________________\n",
            "None\n",
            "6000/6000 [==============================] - 543s 90ms/step - loss: 4.6673\n",
            "6000/6000 [==============================] - 545s 91ms/step - loss: 3.8908\n",
            "6000/6000 [==============================] - 546s 91ms/step - loss: 3.6227\n",
            "6000/6000 [==============================] - 552s 92ms/step - loss: 3.4567\n",
            "6000/6000 [==============================] - 549s 91ms/step - loss: 3.3344\n",
            "6000/6000 [==============================] - 542s 90ms/step - loss: 3.2419\n",
            "6000/6000 [==============================] - 532s 89ms/step - loss: 3.1656\n",
            "6000/6000 [==============================] - 525s 87ms/step - loss: 3.1047\n",
            "6000/6000 [==============================] - 525s 87ms/step - loss: 3.0530\n",
            "6000/6000 [==============================] - 521s 87ms/step - loss: 3.0100\n"
          ],
          "name": "stdout"
        }
      ]
    },
    {
      "cell_type": "markdown",
      "metadata": {
        "id": "1ROBxRYQjPY8"
      },
      "source": [
        "# EVALUATION"
      ]
    },
    {
      "cell_type": "code",
      "metadata": {
        "id": "W7x_XUolUwzp"
      },
      "source": [
        "'''\n",
        "EVALUATE THE TRAINED MODEL\n",
        "-------------------------\n",
        "Provide model and features list file name. \n",
        "The function prints BLEU scores and time taken to process.\n",
        "'''\n",
        "\n",
        "def evaluate_call(model,feat_fname):\n",
        "\n",
        "  # load training dataset (6K)\n",
        "  filename = FOLDERPATH+'dataset/Flickr8k_text/Flickr_8k.trainImages.txt'\n",
        "  train = load_set(filename)\n",
        "  train_descriptions = load_clean_descriptions(FOLDERPATH+'dataset/descriptions.txt', train)\n",
        "  tokenizer = create_tokenizer(train_descriptions)\n",
        "  vocab_size = len(tokenizer.word_index) + 1\n",
        "  maxlength = max_length(train_descriptions)\n",
        "\n",
        "  # load test set\n",
        "  filename = FOLDERPATH+'dataset/Flickr8k_text/Flickr_8k.testImages.txt'\n",
        "  test = load_set(filename)\n",
        "  test_descriptions = load_clean_descriptions(FOLDERPATH+'dataset/descriptions.txt', test)\n",
        "  test_features = load_photo_features(FOLDERPATH+'dataset/{:}.pkl'.format(feat_fname), test)\n",
        "\n",
        "  # evaluate model\n",
        "  start = time.time()\n",
        "  evaluate_model(model, test_descriptions, test_features, tokenizer, maxlength)\n",
        "  print(\"\\nTime taken: \", (time.time()-start)/60)"
      ],
      "execution_count": null,
      "outputs": []
    },
    {
      "cell_type": "markdown",
      "metadata": {
        "id": "W_jgZ-QkqSkN"
      },
      "source": [
        "#### VGG16 RESULTS\n"
      ]
    },
    {
      "cell_type": "markdown",
      "metadata": {
        "id": "bQXh3Am5-236"
      },
      "source": [
        "##### BASELINE VGG16 AND BASELINE LSTM"
      ]
    },
    {
      "cell_type": "code",
      "metadata": {
        "colab": {
          "base_uri": "https://localhost:8080/"
        },
        "id": "bcWBt4q7vCas",
        "outputId": "275b1ce3-d799-4b28-e28e-1f699843fbd4"
      },
      "source": [
        "'''\n",
        "EVALUATE MODEL\n",
        "--------------\n",
        "Load model, call evaluate\n",
        "'''\n",
        "modelname = 'baseline-VGG16-baseline-LSTM.h5'\n",
        "featuresname = 'features_VGG'\n",
        "model_eval = load_model(FOLDERPATH+'models-v2/'+modelname)\n",
        "model_eval.compile(optimizer='adam',loss='categorical_crossentropy')\n",
        "evaluate_call(model_eval,featuresname)"
      ],
      "execution_count": null,
      "outputs": [
        {
          "output_type": "stream",
          "text": [
            "BLEU-1: 0.527181\n",
            "BLEU-2: 0.280733\n",
            "BLEU-3: 0.188469\n",
            "BLEU-4: 0.083586\n",
            "\n",
            "Time taken:  5.68393585284551\n"
          ],
          "name": "stdout"
        }
      ]
    },
    {
      "cell_type": "markdown",
      "metadata": {
        "id": "mXcjlXAQ_Os3"
      },
      "source": [
        "##### QUANTIZED VGG16 AND BASELINE LSTM"
      ]
    },
    {
      "cell_type": "code",
      "metadata": {
        "id": "7H2-trZJUwzp",
        "colab": {
          "base_uri": "https://localhost:8080/"
        },
        "outputId": "25f0eed2-c4f3-46ec-fb2a-87dfd35063a3"
      },
      "source": [
        "'''\n",
        "EVALUATE MODEL\n",
        "--------------\n",
        "Load model, call evaluate\n",
        "'''\n",
        "modelname = 'quantized-VGG16-baseline-LSTM.h5'\n",
        "featuresname = 'features_VGGQ'\n",
        "model_eval = load_model(FOLDERPATH+'models-v2/'+modelname)\n",
        "model_eval.compile(optimizer='adam',loss='categorical_crossentropy')\n",
        "evaluate_call(model_eval,featuresname)"
      ],
      "execution_count": null,
      "outputs": [
        {
          "output_type": "stream",
          "text": [
            "BLEU-1: 0.527145\n",
            "BLEU-2: 0.277764\n",
            "BLEU-3: 0.182242\n",
            "BLEU-4: 0.078872\n",
            "\n",
            "Time taken:  5.333242078622182\n"
          ],
          "name": "stdout"
        }
      ]
    },
    {
      "cell_type": "markdown",
      "metadata": {
        "id": "DKjYyXyuFR14"
      },
      "source": [
        "##### PRUNED50 VGG16 AND BASELINE LSTM"
      ]
    },
    {
      "cell_type": "code",
      "metadata": {
        "colab": {
          "base_uri": "https://localhost:8080/"
        },
        "id": "vwoU8ZxhFRfk",
        "outputId": "90f8c0a4-3125-4217-8695-4f0a9252a009"
      },
      "source": [
        "'''\n",
        "EVALUATE MODEL\n",
        "--------------\n",
        "Load model, call evaluate\n",
        "'''\n",
        "modelname = 'pruned50-VGG16-baseline-LSTM.h5'\n",
        "featuresname = 'features_VGGP50'\n",
        "model_eval = load_model(FOLDERPATH+'models-v2/baselines/'+modelname)\n",
        "model_eval.compile(optimizer='adam',loss='categorical_crossentropy')\n",
        "evaluate_call(model_eval,featuresname)"
      ],
      "execution_count": null,
      "outputs": [
        {
          "output_type": "stream",
          "text": [
            "BLEU-1: 0.418220\n",
            "BLEU-2: 0.169478\n",
            "BLEU-3: 0.107443\n",
            "BLEU-4: 0.043284\n",
            "\n",
            "Time taken:  5.790212110678355\n"
          ],
          "name": "stdout"
        }
      ]
    },
    {
      "cell_type": "markdown",
      "metadata": {
        "id": "VW4v-FIvVdEu"
      },
      "source": [
        "##### PRUNED50QUANT VGG16 AND BASELINE LSTM"
      ]
    },
    {
      "cell_type": "code",
      "metadata": {
        "colab": {
          "base_uri": "https://localhost:8080/"
        },
        "id": "Omvrgu1nTbyw",
        "outputId": "fd7ea898-4fe0-440e-e416-87e7d2d0b140"
      },
      "source": [
        "'''\n",
        "EVALUATE MODEL\n",
        "--------------\n",
        "Load model, call evaluate\n",
        "'''\n",
        "modelname = 'pruned50quant-VGG16-baseline-LSTM.h5'\n",
        "featuresname = 'features_VGGP50Q'\n",
        "model_eval = load_model(FOLDERPATH+'models-v2/baselines/'+modelname)\n",
        "model_eval.compile(optimizer='adam',loss='categorical_crossentropy')\n",
        "evaluate_call(model_eval,featuresname)"
      ],
      "execution_count": null,
      "outputs": [
        {
          "output_type": "stream",
          "text": [
            "BLEU-1: 0.504851\n",
            "BLEU-2: 0.246832\n",
            "BLEU-3: 0.152256\n",
            "BLEU-4: 0.069298\n",
            "\n",
            "Time taken:  5.908193639914194\n"
          ],
          "name": "stdout"
        }
      ]
    },
    {
      "cell_type": "markdown",
      "metadata": {
        "id": "gavMKXhAqc0k"
      },
      "source": [
        "#### RESNET RESULTS"
      ]
    },
    {
      "cell_type": "markdown",
      "metadata": {
        "id": "sPfQFoxw_gCE"
      },
      "source": [
        "##### BASELINE RESNET AND BASELINE LSTM"
      ]
    },
    {
      "cell_type": "code",
      "metadata": {
        "colab": {
          "base_uri": "https://localhost:8080/"
        },
        "id": "NLDbaLk1u22N",
        "outputId": "21eaddea-4136-4d3b-adba-56d9f35931df"
      },
      "source": [
        "'''\n",
        "EVALUATE MODEL\n",
        "--------------\n",
        "Load model, call evaluate\n",
        "'''\n",
        "modelname = 'baseline-ResNet-baseline-LSTM.h5'\n",
        "featuresname = 'features_ResNet'\n",
        "model_eval = load_model(FOLDERPATH+'models-v2/'+modelname)\n",
        "model_eval.compile(optimizer='adam',loss='categorical_crossentropy')\n",
        "evaluate_call(model_eval,featuresname)"
      ],
      "execution_count": null,
      "outputs": [
        {
          "output_type": "stream",
          "text": [
            "BLEU-1: 0.510045\n",
            "BLEU-2: 0.265207\n",
            "BLEU-3: 0.181706\n",
            "BLEU-4: 0.083025\n",
            "\n",
            "Time taken:  5.910696216424307\n"
          ],
          "name": "stdout"
        }
      ]
    },
    {
      "cell_type": "markdown",
      "metadata": {
        "id": "cVNK3uX-VpjG"
      },
      "source": [
        "##### QUANTIZED RESNET AND BASELINE LSTM"
      ]
    },
    {
      "cell_type": "code",
      "metadata": {
        "colab": {
          "base_uri": "https://localhost:8080/"
        },
        "id": "bpZgBjBBVoM5",
        "outputId": "26f39768-f54c-4be2-8858-53f7475dbf6b"
      },
      "source": [
        "'''\n",
        "EVALUATE MODEL\n",
        "--------------\n",
        "Load model, call evaluate\n",
        "'''\n",
        "modelname = 'quantized-ResNet-baseline-LSTM.h5'\n",
        "featuresname = 'features_ResNetQ'\n",
        "model_eval = load_model(FOLDERPATH+'models-v2/'+modelname)\n",
        "model_eval.compile(optimizer='adam',loss='categorical_crossentropy')\n",
        "evaluate_call(model_eval,featuresname)"
      ],
      "execution_count": null,
      "outputs": [
        {
          "output_type": "stream",
          "text": [
            "BLEU-1: 0.546315\n",
            "BLEU-2: 0.299104\n",
            "BLEU-3: 0.210328\n",
            "BLEU-4: 0.100582\n",
            "\n",
            "Time taken:  5.879957898457845\n"
          ],
          "name": "stdout"
        }
      ]
    },
    {
      "cell_type": "markdown",
      "metadata": {
        "id": "Y_DULCaNly9e"
      },
      "source": [
        "##### PRUNED50 RESNET AND BASELINE LSTM"
      ]
    },
    {
      "cell_type": "code",
      "metadata": {
        "colab": {
          "base_uri": "https://localhost:8080/"
        },
        "id": "50hipiujU5q5",
        "outputId": "ff31dddc-bc90-424d-bb55-56fe1db17053"
      },
      "source": [
        "'''\n",
        "EVALUATE MODEL\n",
        "--------------\n",
        "Load model, call evaluate\n",
        "'''\n",
        "modelname = 'pruned50-ResNet-baseline-LSTM.h5'\n",
        "featuresname = 'features_ResNetP50'\n",
        "model_eval = load_model(FOLDERPATH+'models-v2/baselines/'+modelname)\n",
        "model_eval.compile(optimizer='adam',loss='categorical_crossentropy')\n",
        "evaluate_call(model_eval,featuresname)"
      ],
      "execution_count": null,
      "outputs": [
        {
          "output_type": "stream",
          "text": [
            "BLEU-1: 0.418220\n",
            "BLEU-2: 0.169478\n",
            "BLEU-3: 0.107443\n",
            "BLEU-4: 0.043284\n",
            "\n",
            "Time taken:  6.262433421611786\n"
          ],
          "name": "stdout"
        }
      ]
    },
    {
      "cell_type": "markdown",
      "metadata": {
        "id": "l0sZ9GARmFTL"
      },
      "source": [
        "##### PRUNED50QUANT RESNET AND BASELINE LSTM"
      ]
    },
    {
      "cell_type": "code",
      "metadata": {
        "colab": {
          "base_uri": "https://localhost:8080/"
        },
        "id": "l1lkN0jil9SI",
        "outputId": "c769283d-648c-496a-b2ee-894097c0f3c4"
      },
      "source": [
        "'''\n",
        "EVALUATE MODEL\n",
        "--------------\n",
        "Load model, call evaluate\n",
        "'''\n",
        "modelname = 'pruned50quant-ResNet-baseline-LSTM.h5'\n",
        "featuresname = 'features_ResNetP50Q'\n",
        "model_eval = load_model(FOLDERPATH+'models-v2/baselines/'+modelname)\n",
        "model_eval.compile(optimizer='adam',loss='categorical_crossentropy')\n",
        "evaluate_call(model_eval,featuresname)"
      ],
      "execution_count": null,
      "outputs": [
        {
          "output_type": "stream",
          "text": [
            "BLEU-1: 0.501118\n",
            "BLEU-2: 0.240574\n",
            "BLEU-3: 0.145263\n",
            "BLEU-4: 0.065242\n",
            "\n",
            "Time taken:  6.214895681540171\n"
          ],
          "name": "stdout"
        }
      ]
    },
    {
      "cell_type": "markdown",
      "metadata": {
        "id": "5Jzp4UCuq6JS"
      },
      "source": [
        "#### ROUGH"
      ]
    },
    {
      "cell_type": "code",
      "metadata": {
        "id": "p_AcxfGnmI0I"
      },
      "source": [
        ""
      ],
      "execution_count": null,
      "outputs": []
    }
  ]
}